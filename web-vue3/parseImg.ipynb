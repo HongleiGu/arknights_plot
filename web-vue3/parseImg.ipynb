{
 "cells": [
  {
   "cell_type": "code",
   "execution_count": 19,
   "metadata": {},
   "outputs": [
    {
     "name": "stdout",
     "output_type": "stream",
     "text": [
      "INSERT INTO images (name, icon, cover, name_en, info, type, shift) VALUES\n",
      "('刻俄柏的灰蕈幻境', 'https://media.prts.wiki/4/4b/图标_刻俄柏的灰蕈迷境.png', 'https://i0.hdslb.com/bfs/archive/2bb1a2d3cbb49ba59edff58f4e18ccce8fe98cb0.jpg', 'CEOBES FUNGI MIST', '', '特殊', 600),\n",
      "('傀影与猩红孤钻', 'https://media.prts.wiki/0/07/图标_傀影与猩红孤钻.png', 'https://i1.hdslb.com/bfs/archive/a807a681694586474b30f9942874db52bdbc0e7c.png', 'PHANTON & CRIMSON SOLITARE', '', '特殊', 300),\n",
      "('水月与深蓝之树', 'https://media.prts.wiki/e/e0/图标_水月与深蓝之树.png', 'https://i0.hdslb.com/bfs/article/a668c611169952c87cf2bcf04af126512582b589.png', 'MIZUKI AND CAERULA ARBOR', '', '特殊', 450),\n",
      "('探索者的银凇止境', 'https://media.prts.wiki/9/99/图标_探索者的银凇止境.png', 'https://i2.hdslb.com/bfs/archive/28edc5ec13759feccef083296d565fd8255797d6.png', 'EXPEDITIONER'S JǪKLUMARKAR', '', '特殊', 700),\n",
      "('萨卡兹的无终奇语', 'https://media.prts.wiki/c/c3/图标_萨卡兹的无终奇语.png', 'https://i0.hdslb.com/bfs/new_dyn/32cdc6f8902247b93ef55b9e3c8c194224723044.png', 'SARKAZ'S FURNACE SIDE FABLES', '', '特殊', 550),\n"
     ]
    }
   ],
   "source": [
    "import urllib\n",
    "\n",
    "images = [\n",
    "  {\n",
    "    \"name\": \"刻俄柏的灰蕈幻境\",\n",
    "    \"icon\": \"https://media.prts.wiki/4/4b/%E5%9B%BE%E6%A0%87_%E5%88%BB%E4%BF%84%E6%9F%8F%E7%9A%84%E7%81%B0%E8%95%88%E8%BF%B7%E5%A2%83.png\",\n",
    "    \"cover\": \"https://i0.hdslb.com/bfs/archive/2bb1a2d3cbb49ba59edff58f4e18ccce8fe98cb0.jpg\",\n",
    "    \"name-en\": \"CEOBES FUNGI MIST\",\n",
    "    \"shift\": 600\n",
    "  },\n",
    "  {\n",
    "    \"name\": \"傀影与猩红孤钻\",\n",
    "    \"icon\": \"https://media.prts.wiki/0/07/%E5%9B%BE%E6%A0%87_%E5%82%80%E5%BD%B1%E4%B8%8E%E7%8C%A9%E7%BA%A2%E5%AD%A4%E9%92%BB.png\",\n",
    "    \"cover\": \"https://i1.hdslb.com/bfs/archive/a807a681694586474b30f9942874db52bdbc0e7c.png\",\n",
    "    \"name-en\": \"PHANTON & CRIMSON SOLITARE\",\n",
    "    \"shift\": 300\n",
    "  },\n",
    "  {\n",
    "    \"name\": \"水月与深蓝之树\",\n",
    "    \"icon\": \"https://media.prts.wiki/e/e0/%E5%9B%BE%E6%A0%87_%E6%B0%B4%E6%9C%88%E4%B8%8E%E6%B7%B1%E8%93%9D%E4%B9%8B%E6%A0%91.png\",\n",
    "    \"cover\": \"https://i0.hdslb.com/bfs/article/a668c611169952c87cf2bcf04af126512582b589.png\",\n",
    "    \"name-en\": \"MIZUKI AND CAERULA ARBOR\",\n",
    "    \"shift\": 450\n",
    "  },\n",
    "  {\n",
    "    \"name\": \"探索者的银凇止境\",\n",
    "    \"icon\": \"https://media.prts.wiki/9/99/%E5%9B%BE%E6%A0%87_%E6%8E%A2%E7%B4%A2%E8%80%85%E7%9A%84%E9%93%B6%E5%87%87%E6%AD%A2%E5%A2%83.png\",\n",
    "    \"cover\": \"https://i2.hdslb.com/bfs/archive/28edc5ec13759feccef083296d565fd8255797d6.png\",\n",
    "    \"name-en\": \"EXPEDITIONER'S JǪKLUMARKAR\",\n",
    "    \"shift\": 700\n",
    "  },\n",
    "  {\n",
    "    \"name\": \"萨卡兹的无终奇语\",\n",
    "    \"icon\": \"https://media.prts.wiki/c/c3/%E5%9B%BE%E6%A0%87_%E8%90%A8%E5%8D%A1%E5%85%B9%E7%9A%84%E6%97%A0%E7%BB%88%E5%A5%87%E8%AF%AD.png\",\n",
    "    \"cover\": \"https://i0.hdslb.com/bfs/new_dyn/32cdc6f8902247b93ef55b9e3c8c194224723044.png\",\n",
    "    \"name-en\": \"SARKAZ'S FURNACE SIDE FABLES\",\n",
    "    \"shift\": 550\n",
    "  }\n",
    "]\n",
    "\n",
    "print(\"INSERT INTO images (name, icon, cover, name_en, info, type, shift) VALUES\")\n",
    "for i in images:\n",
    "  print(f\"('{i['name']}', '{urllib.parse.unquote(i['icon'])}', '{urllib.parse.unquote(i['cover'])}', '{i['name-en']}', '{i.get('info','')}', '特殊', {i.get('shift','')}),\")"
   ]
  },
  {
   "cell_type": "code",
   "execution_count": null,
   "metadata": {},
   "outputs": [],
   "source": []
  }
 ],
 "metadata": {
  "kernelspec": {
   "display_name": "study",
   "language": "python",
   "name": "python3"
  },
  "language_info": {
   "codemirror_mode": {
    "name": "ipython",
    "version": 3
   },
   "file_extension": ".py",
   "mimetype": "text/x-python",
   "name": "python",
   "nbconvert_exporter": "python",
   "pygments_lexer": "ipython3",
   "version": "3.9.19"
  }
 },
 "nbformat": 4,
 "nbformat_minor": 2
}
